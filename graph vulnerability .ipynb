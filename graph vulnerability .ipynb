{
 "cells": [
  {
   "cell_type": "code",
   "execution_count": 12,
   "metadata": {},
   "outputs": [],
   "source": [
    "from bokeh.io import show,output_notebook,output_file\n",
    "from bokeh.models import (GeoJSONDataSource,HoverTool,LinearColorMapper)\n",
    "from bokeh.palettes import Reds5 as palette\n",
    "from bokeh.plotting import figure\n",
    "\n",
    "palette.reverse()\n",
    "\n",
    "with open('south_america.geojson', 'r') as f:\n",
    "    geo_source = GeoJSONDataSource(geojson=f.read())\n",
    "\n",
    "color_mapper = LinearColorMapper(palette=palette)\n",
    "\n",
    "TOOLS = \"pan,wheel_zoom,reset,hover,save\"\n",
    "\n",
    "p = figure(title=\"South America 2015 - Vulnerability Index\", tools=TOOLS, x_axis_location=None, y_axis_location=None)\n",
    "p.grid.grid_line_color = None\n",
    "\n",
    "p.patches('xs', 'ys', fill_alpha=10, fill_color={'field':'Vul', 'transform': color_mapper},\n",
    "          line_color='white', line_width=1, source=geo_source)\n",
    "\n",
    "hover = p.select_one(HoverTool)\n",
    "hover.point_policy = \"follow_mouse\"\n",
    "hover.tooltips = [(\"Country\",\"@COUNTRY\"),(\"Vulnerability Index\",\"@Vul\")]\n",
    "\n",
    "output_file(\"vulnerability.html\", title=\"South America 2015 - Vulnerability Index\")\n",
    "\n",
    "show(p)"
   ]
  },
  {
   "cell_type": "code",
   "execution_count": 17,
   "metadata": {},
   "outputs": [],
   "source": [
    "from bokeh.io import show,output_notebook,output_file\n",
    "from bokeh.models import (GeoJSONDataSource,HoverTool,LinearColorMapper)\n",
    "from bokeh.palettes import Greens3 as palette\n",
    "from bokeh.plotting import figure\n",
    "\n",
    "palette.reverse()\n",
    "\n",
    "with open('pe2017.geojson', 'r') as f:\n",
    "    geo_source = GeoJSONDataSource(geojson=f.read())\n",
    "\n",
    "color_mapper = LinearColorMapper(palette=palette)\n",
    "\n",
    "TOOLS = \"pan,wheel_zoom,reset,hover,save\"\n",
    "\n",
    "p = figure(title=\"South America 2017 - Total Damage ($)\", tools=TOOLS, x_axis_location=None, y_axis_location=None)\n",
    "p.grid.grid_line_color = None\n",
    "\n",
    "p.patches('xs', 'ys', fill_alpha=10, fill_color={'field':'pe', 'transform': color_mapper},\n",
    "          line_color='white', line_width=1, source=geo_source)\n",
    "\n",
    "hover = p.select_one(HoverTool)\n",
    "hover.point_policy = \"follow_mouse\"\n",
    "hover.tooltips = [(\"Country\",\"@COUNTRY\"),(\"Total Damage ($)\",\"@pe\")]\n",
    "\n",
    "output_file(\"pe2017.html\", title=\"South America 2017 - Total Damage ($)\")\n",
    "\n",
    "show(p)"
   ]
  },
  {
   "cell_type": "code",
   "execution_count": 20,
   "metadata": {},
   "outputs": [],
   "source": [
    "from bokeh.io import show,output_notebook,output_file\n",
    "from bokeh.models import (GeoJSONDataSource,HoverTool,LinearColorMapper)\n",
    "from bokeh.palettes import Greens3 as palette\n",
    "from bokeh.plotting import figure\n",
    "\n",
    "palette.reverse()\n",
    "\n",
    "with open('pe2018.geojson', 'r') as f:\n",
    "    geo_source = GeoJSONDataSource(geojson=f.read())\n",
    "\n",
    "color_mapper = LinearColorMapper(palette=palette)\n",
    "\n",
    "TOOLS = \"pan,wheel_zoom,reset,hover,save\"\n",
    "\n",
    "p = figure(title=\"South America 2018 - Total Damage ($)\", tools=TOOLS, x_axis_location=None, y_axis_location=None)\n",
    "p.grid.grid_line_color = None\n",
    "\n",
    "p.patches('xs', 'ys', fill_alpha=10, fill_color={'field':'pe2018', 'transform': color_mapper},\n",
    "          line_color='white', line_width=1, source=geo_source)\n",
    "\n",
    "hover = p.select_one(HoverTool)\n",
    "hover.point_policy = \"follow_mouse\"\n",
    "hover.tooltips = [(\"Country\",\"@COUNTRY\"),(\"Total Damage ($)\",\"@pe2018\")]\n",
    "\n",
    "output_file(\"pe2018.html\", title=\"South America 2018 - Total Damage ($)\")\n",
    "\n",
    "show(p)"
   ]
  },
  {
   "cell_type": "code",
   "execution_count": null,
   "metadata": {},
   "outputs": [],
   "source": []
  }
 ],
 "metadata": {
  "kernelspec": {
   "display_name": "Python 3",
   "language": "python",
   "name": "python3"
  },
  "language_info": {
   "codemirror_mode": {
    "name": "ipython",
    "version": 3
   },
   "file_extension": ".py",
   "mimetype": "text/x-python",
   "name": "python",
   "nbconvert_exporter": "python",
   "pygments_lexer": "ipython3",
   "version": "3.6.7"
  }
 },
 "nbformat": 4,
 "nbformat_minor": 2
}
